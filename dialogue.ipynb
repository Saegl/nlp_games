{
 "cells": [
  {
   "cell_type": "code",
   "execution_count": 52,
   "metadata": {},
   "outputs": [
    {
     "name": "stderr",
     "output_type": "stream",
     "text": [
      "c:\\Users\\saegl\\miniconda3\\envs\\dinora\\lib\\site-packages\\tqdm\\auto.py:21: TqdmWarning: IProgress not found. Please update jupyter and ipywidgets. See https://ipywidgets.readthedocs.io/en/stable/user_install.html\n",
      "  from .autonotebook import tqdm as notebook_tqdm\n"
     ]
    }
   ],
   "source": [
    "import torch\n",
    "from torch import nn, optim\n",
    "import json\n",
    "import string\n",
    "import random\n",
    "from tqdm.auto import tqdm, trange"
   ]
  },
  {
   "cell_type": "code",
   "execution_count": 6,
   "metadata": {},
   "outputs": [
    {
     "data": {
      "text/plain": [
       "{'context': 'Riley had their arms raised for most of the concert, but lowered them toward the end.',\n",
       " 'speaker': 'Riley',\n",
       " 'turns': ['I had my arms raise for most of the concert.',\n",
       "  'Really, how long was the concert?.',\n",
       "  'About four hours, but I dropped my arms around three hours in.',\n",
       "  \"I can't say I'm shocked, that's too long to have your arms up.\",\n",
       "  \"Yeah it wasn't my smartest move, really fun though!\",\n",
       "  'It sounds it!']}"
      ]
     },
     "execution_count": 6,
     "metadata": {},
     "output_type": "execute_result"
    }
   ],
   "source": [
    "with open('dialogues/data/test.json') as f:\n",
    "    test_data = list(json.load(f).values())\n",
    "\n",
    "characters = set()\n",
    "\n",
    "for entry in test_data:\n",
    "    for turns in entry['turns']:\n",
    "        for char in turns:\n",
    "            characters.add(char)\n",
    "\n",
    "\n",
    "extra_letters = ' !?\"\\'#$%,-./0123456789:;’'\n",
    "message_start_marker = '>'\n",
    "all_letters = string.ascii_letters + extra_letters + message_start_marker\n",
    "n_letters = len(all_letters)\n",
    "\n",
    "if characters.difference(all_letters):\n",
    "    raise ValueError(\"Encoder vocabulary is smaller than dataset vocabulary\")\n",
    "\n",
    "random_entry = random.choice(test_data)\n",
    "random.choice(test_data)"
   ]
  },
  {
   "cell_type": "code",
   "execution_count": 32,
   "metadata": {},
   "outputs": [
    {
     "name": "stdout",
     "output_type": "stream",
     "text": [
      "tensor([[0., 0., 0.,  ..., 0., 0., 1.],\n",
      "        [0., 0., 0.,  ..., 0., 0., 0.],\n",
      "        [0., 0., 0.,  ..., 0., 0., 0.],\n",
      "        ...,\n",
      "        [0., 0., 0.,  ..., 0., 0., 0.],\n",
      "        [0., 0., 0.,  ..., 0., 0., 0.],\n",
      "        [0., 0., 0.,  ..., 0., 0., 0.]])\n",
      "torch.Size([213, 78])\n"
     ]
    }
   ],
   "source": [
    "# Let's convert json entry -> text (string) -> tensor\n",
    "\n",
    "## json -> text\n",
    "def entry_to_text(entry) -> str:\n",
    "    return \"\".join([message_start_marker + t for t in entry['turns']])\n",
    "\n",
    "## text -> tensor\n",
    "\n",
    "### index to character\n",
    "idx_to_chr = all_letters\n",
    "\n",
    "### character to index\n",
    "chr_to_idx = {v: k for k, v in enumerate(all_letters)}\n",
    "\n",
    "one_hot_matrix = torch.eye(n_letters)\n",
    "\n",
    "def text_to_tensor(text: str) -> torch.Tensor:\n",
    "    output = []\n",
    "    for c in text:\n",
    "        index = chr_to_idx[c]\n",
    "        one_hot_entry = one_hot_matrix[index]\n",
    "        output.append(one_hot_entry)\n",
    "\n",
    "    return torch.stack(output)\n",
    "\n",
    "\n",
    "def entry_to_input_tensor(entry) -> torch.Tensor:  # shape (len(text), 78)\n",
    "    text = entry_to_text(entry)\n",
    "    return text_to_tensor(text)\n",
    "\n",
    "def entry_to_target_tensor(entry) -> torch.Tensor:  # shape (len(text),)\n",
    "    text = entry_to_text(entry)\n",
    "    text = text[1:] + message_start_marker  # start_marker is also end marker :-|\n",
    "    return torch.tensor([chr_to_idx[c] for c in text])\n",
    "\n",
    "\n",
    "\n",
    "t = entry_to_input_tensor(random_entry)\n",
    "print(t)\n",
    "print(t.shape)\n"
   ]
  },
  {
   "cell_type": "code",
   "execution_count": 33,
   "metadata": {},
   "outputs": [
    {
     "name": "stdout",
     "output_type": "stream",
     "text": [
      "torch.Size([244, 78])\n",
      "torch.Size([244])\n"
     ]
    }
   ],
   "source": [
    "def get_random_entry_from_dataset() -> torch.Tensor:\n",
    "    entry = random.choice(test_data)\n",
    "    input_tensor = entry_to_input_tensor(entry)\n",
    "    target_tensor = entry_to_target_tensor(entry)\n",
    "    return input_tensor, target_tensor\n",
    "\n",
    "input_tensor, target_tensor = get_random_entry_from_dataset()\n",
    "print(input_tensor.shape)\n",
    "print(target_tensor.shape)"
   ]
  },
  {
   "cell_type": "code",
   "execution_count": 34,
   "metadata": {},
   "outputs": [],
   "source": [
    "class CharGenRNN(nn.Module):\n",
    "    def __init__(\n",
    "            self,\n",
    "            input_size,\n",
    "            hidden_size,\n",
    "            num_layers,\n",
    "            batch_first,\n",
    "            bidirectional,\n",
    "            output_size) -> None:\n",
    "        super().__init__()\n",
    "        self.rnn = nn.RNN(\n",
    "            input_size = input_size,\n",
    "            hidden_size=hidden_size,\n",
    "            num_layers=num_layers,\n",
    "            batch_first=batch_first,\n",
    "            bidirectional=bidirectional,\n",
    "        )\n",
    "        self.o2o = nn.Linear(hidden_size, output_size)  ####\n",
    "        self.softmax = nn.LogSoftmax(dim=-1)\n",
    "\n",
    "    def forward(self, x, hidden):\n",
    "        out, hidden = self.rnn(x, hidden)\n",
    "        # out shape: (seq, hidden_size)\n",
    "        out = self.o2o(out)\n",
    "        out = self.softmax(out)\n",
    "        return out, hidden"
   ]
  },
  {
   "cell_type": "code",
   "execution_count": 56,
   "metadata": {},
   "outputs": [
    {
     "name": "stderr",
     "output_type": "stream",
     "text": [
      "  0%|          | 2/4000 [00:00<08:13,  8.10it/s]"
     ]
    },
    {
     "name": "stdout",
     "output_type": "stream",
     "text": [
      "4.359236240386963\n"
     ]
    },
    {
     "name": "stderr",
     "output_type": "stream",
     "text": [
      " 13%|█▎        | 502/4000 [01:25<09:32,  6.11it/s]"
     ]
    },
    {
     "name": "stdout",
     "output_type": "stream",
     "text": [
      "3.1231815814971924\n"
     ]
    },
    {
     "name": "stderr",
     "output_type": "stream",
     "text": [
      " 25%|██▌       | 1002/4000 [02:51<09:38,  5.18it/s]"
     ]
    },
    {
     "name": "stdout",
     "output_type": "stream",
     "text": [
      "3.0204927921295166\n"
     ]
    },
    {
     "name": "stderr",
     "output_type": "stream",
     "text": [
      " 38%|███▊      | 1502/4000 [04:23<07:00,  5.94it/s]"
     ]
    },
    {
     "name": "stdout",
     "output_type": "stream",
     "text": [
      "3.140648603439331\n"
     ]
    },
    {
     "name": "stderr",
     "output_type": "stream",
     "text": [
      " 50%|█████     | 2001/4000 [05:58<06:11,  5.38it/s]"
     ]
    },
    {
     "name": "stdout",
     "output_type": "stream",
     "text": [
      "3.0677576065063477\n"
     ]
    },
    {
     "name": "stderr",
     "output_type": "stream",
     "text": [
      " 63%|██████▎   | 2502/4000 [07:33<04:21,  5.72it/s]"
     ]
    },
    {
     "name": "stdout",
     "output_type": "stream",
     "text": [
      "2.9589085578918457\n"
     ]
    },
    {
     "name": "stderr",
     "output_type": "stream",
     "text": [
      " 75%|███████▌  | 3001/4000 [09:02<02:46,  5.99it/s]"
     ]
    },
    {
     "name": "stdout",
     "output_type": "stream",
     "text": [
      "3.060117244720459\n"
     ]
    },
    {
     "name": "stderr",
     "output_type": "stream",
     "text": [
      " 88%|████████▊ | 3501/4000 [10:33<01:51,  4.49it/s]"
     ]
    },
    {
     "name": "stdout",
     "output_type": "stream",
     "text": [
      "3.0867297649383545\n"
     ]
    },
    {
     "name": "stderr",
     "output_type": "stream",
     "text": [
      "100%|██████████| 4000/4000 [12:05<00:00,  5.52it/s]\n"
     ]
    }
   ],
   "source": [
    "input_size = n_letters\n",
    "hidden_size = 256\n",
    "num_layers = 6\n",
    "batch_first = True\n",
    "batch_size = 1\n",
    "bidirectional = False\n",
    "n_iters = 4_000\n",
    "\n",
    "loss_save_freq = 100\n",
    "loss_print_freq = 500\n",
    "\n",
    "model = CharGenRNN(\n",
    "    input_size=input_size,\n",
    "    hidden_size=hidden_size,\n",
    "    num_layers=num_layers,\n",
    "    batch_first=batch_first,\n",
    "    bidirectional=bidirectional,\n",
    "    output_size=n_letters,\n",
    ")\n",
    "\n",
    "\n",
    "loss_fn = nn.NLLLoss()\n",
    "optimizer = optim.Adam(model.parameters(), lr=1e-3)\n",
    "\n",
    "# Trainig step\n",
    "\n",
    "h0 = torch.zeros(\n",
    "    num_layers,\n",
    "    hidden_size,\n",
    ")\n",
    "\n",
    "all_losses = []\n",
    "\n",
    "\n",
    "for i in trange(n_iters):\n",
    "    input_tensor,       target_tensor = get_random_entry_from_dataset()\n",
    "    # (len(text), 78),  (len(text),)\n",
    "\n",
    "    pred,               hn = model(input_tensor, h0)\n",
    "    # (seq, n_letters), ???\n",
    "\n",
    "    loss = loss_fn(pred, target_tensor)\n",
    "\n",
    "    optimizer.zero_grad()\n",
    "    loss.backward()\n",
    "    optimizer.step()\n",
    "\n",
    "    if i % loss_save_freq == 0:\n",
    "        all_losses.append(loss.item())\n",
    "\n",
    "    if i % loss_print_freq == 0:\n",
    "        tqdm.write(f\"{loss.item()}\")\n"
   ]
  },
  {
   "cell_type": "code",
   "execution_count": 57,
   "metadata": {},
   "outputs": [
    {
     "data": {
      "text/plain": [
       "[<matplotlib.lines.Line2D at 0x243d5867970>]"
      ]
     },
     "execution_count": 57,
     "metadata": {},
     "output_type": "execute_result"
    },
    {
     "data": {
      "image/png": "[encoded data removed]",
      "text/plain": [
       "<Figure size 640x480 with 1 Axes>"
      ]
     },
     "metadata": {},
     "output_type": "display_data"
    }
   ],
   "source": [
    "import matplotlib.pyplot as plt\n",
    "\n",
    "plt.figure()\n",
    "plt.plot(all_losses)"
   ]
  },
  {
   "cell_type": "code",
   "execution_count": 67,
   "metadata": {},
   "outputs": [
    {
     "name": "stdout",
     "output_type": "stream",
     "text": [
      "Letter  \n",
      "Idx: tensor(52)\n",
      "Letter  \n",
      "Idx: tensor(52)\n",
      "Letter  \n",
      "Idx: tensor(52)\n",
      "Letter  \n",
      "Idx: tensor(52)\n",
      "Letter  \n",
      "Idx: tensor(52)\n",
      "Letter  \n",
      "Idx: tensor(52)\n",
      "Letter  \n",
      "Idx: tensor(52)\n",
      "Letter  \n",
      "Idx: tensor(52)\n",
      "Letter  \n",
      "Idx: tensor(52)\n",
      "Letter  \n",
      "Idx: tensor(52)\n",
      "Letter  \n",
      "Idx: tensor(52)\n",
      "Letter  \n",
      "Idx: tensor(52)\n",
      "Letter  \n",
      "Idx: tensor(52)\n",
      "Letter  \n",
      "Idx: tensor(52)\n",
      "Letter  \n",
      "Idx: tensor(52)\n",
      "Letter  \n",
      "Idx: tensor(52)\n",
      "Letter  \n",
      "Idx: tensor(52)\n",
      "Letter  \n",
      "Idx: tensor(52)\n",
      "Letter  \n",
      "Idx: tensor(52)\n",
      "Letter  \n",
      "Idx: tensor(52)\n",
      "Letter  \n",
      "Idx: tensor(52)\n",
      "Letter  \n",
      "Idx: tensor(52)\n",
      "Letter  \n",
      "Idx: tensor(52)\n",
      "Letter  \n",
      "Idx: tensor(52)\n",
      "Letter  \n",
      "Idx: tensor(52)\n",
      "Letter  \n",
      "Idx: tensor(52)\n"
     ]
    },
    {
     "ename": "KeyboardInterrupt",
     "evalue": "",
     "output_type": "error",
     "traceback": [
      "\u001b[1;31m---------------------------------------------------------------------------\u001b[0m",
      "\u001b[1;31mKeyboardInterrupt\u001b[0m                         Traceback (most recent call last)",
      "Cell \u001b[1;32mIn[67], line 16\u001b[0m\n\u001b[0;32m     13\u001b[0m output_name \u001b[39m=\u001b[39m message_start_marker\n\u001b[0;32m     15\u001b[0m \u001b[39mfor\u001b[39;00m i \u001b[39min\u001b[39;00m \u001b[39mrange\u001b[39m(\u001b[39m250\u001b[39m):\n\u001b[1;32m---> 16\u001b[0m     output, hidden \u001b[39m=\u001b[39m model(input_tensor[\u001b[39m0\u001b[39;49m]\u001b[39m.\u001b[39;49mreshape(\u001b[39m1\u001b[39;49m, \u001b[39m78\u001b[39;49m), hidden)\n\u001b[0;32m     17\u001b[0m     topv, topi \u001b[39m=\u001b[39m output\u001b[39m.\u001b[39mtopk(\u001b[39m1\u001b[39m)\n\u001b[0;32m     18\u001b[0m     topi \u001b[39m=\u001b[39m topi[\u001b[39m0\u001b[39m][\u001b[39m0\u001b[39m]\n",
      "File \u001b[1;32mc:\\Users\\saegl\\miniconda3\\envs\\dinora\\lib\\site-packages\\torch\\nn\\modules\\module.py:1501\u001b[0m, in \u001b[0;36mModule._call_impl\u001b[1;34m(self, *args, **kwargs)\u001b[0m\n\u001b[0;32m   1496\u001b[0m \u001b[39m# If we don't have any hooks, we want to skip the rest of the logic in\u001b[39;00m\n\u001b[0;32m   1497\u001b[0m \u001b[39m# this function, and just call forward.\u001b[39;00m\n\u001b[0;32m   1498\u001b[0m \u001b[39mif\u001b[39;00m \u001b[39mnot\u001b[39;00m (\u001b[39mself\u001b[39m\u001b[39m.\u001b[39m_backward_hooks \u001b[39mor\u001b[39;00m \u001b[39mself\u001b[39m\u001b[39m.\u001b[39m_backward_pre_hooks \u001b[39mor\u001b[39;00m \u001b[39mself\u001b[39m\u001b[39m.\u001b[39m_forward_hooks \u001b[39mor\u001b[39;00m \u001b[39mself\u001b[39m\u001b[39m.\u001b[39m_forward_pre_hooks\n\u001b[0;32m   1499\u001b[0m         \u001b[39mor\u001b[39;00m _global_backward_pre_hooks \u001b[39mor\u001b[39;00m _global_backward_hooks\n\u001b[0;32m   1500\u001b[0m         \u001b[39mor\u001b[39;00m _global_forward_hooks \u001b[39mor\u001b[39;00m _global_forward_pre_hooks):\n\u001b[1;32m-> 1501\u001b[0m     \u001b[39mreturn\u001b[39;00m forward_call(\u001b[39m*\u001b[39margs, \u001b[39m*\u001b[39m\u001b[39m*\u001b[39mkwargs)\n\u001b[0;32m   1502\u001b[0m \u001b[39m# Do not call functions when jit is used\u001b[39;00m\n\u001b[0;32m   1503\u001b[0m full_backward_hooks, non_full_backward_hooks \u001b[39m=\u001b[39m [], []\n",
      "Cell \u001b[1;32mIn[34], line 22\u001b[0m, in \u001b[0;36mCharGenRNN.forward\u001b[1;34m(self, x, hidden)\u001b[0m\n\u001b[0;32m     21\u001b[0m \u001b[39mdef\u001b[39;00m \u001b[39mforward\u001b[39m(\u001b[39mself\u001b[39m, x, hidden):\n\u001b[1;32m---> 22\u001b[0m     out, hidden \u001b[39m=\u001b[39m \u001b[39mself\u001b[39;49m\u001b[39m.\u001b[39;49mrnn(x, hidden)\n\u001b[0;32m     23\u001b[0m     \u001b[39m# out shape: (seq, hidden_size)\u001b[39;00m\n\u001b[0;32m     24\u001b[0m     out \u001b[39m=\u001b[39m \u001b[39mself\u001b[39m\u001b[39m.\u001b[39mo2o(out)\n",
      "File \u001b[1;32mc:\\Users\\saegl\\miniconda3\\envs\\dinora\\lib\\site-packages\\torch\\nn\\modules\\module.py:1501\u001b[0m, in \u001b[0;36mModule._call_impl\u001b[1;34m(self, *args, **kwargs)\u001b[0m\n\u001b[0;32m   1496\u001b[0m \u001b[39m# If we don't have any hooks, we want to skip the rest of the logic in\u001b[39;00m\n\u001b[0;32m   1497\u001b[0m \u001b[39m# this function, and just call forward.\u001b[39;00m\n\u001b[0;32m   1498\u001b[0m \u001b[39mif\u001b[39;00m \u001b[39mnot\u001b[39;00m (\u001b[39mself\u001b[39m\u001b[39m.\u001b[39m_backward_hooks \u001b[39mor\u001b[39;00m \u001b[39mself\u001b[39m\u001b[39m.\u001b[39m_backward_pre_hooks \u001b[39mor\u001b[39;00m \u001b[39mself\u001b[39m\u001b[39m.\u001b[39m_forward_hooks \u001b[39mor\u001b[39;00m \u001b[39mself\u001b[39m\u001b[39m.\u001b[39m_forward_pre_hooks\n\u001b[0;32m   1499\u001b[0m         \u001b[39mor\u001b[39;00m _global_backward_pre_hooks \u001b[39mor\u001b[39;00m _global_backward_hooks\n\u001b[0;32m   1500\u001b[0m         \u001b[39mor\u001b[39;00m _global_forward_hooks \u001b[39mor\u001b[39;00m _global_forward_pre_hooks):\n\u001b[1;32m-> 1501\u001b[0m     \u001b[39mreturn\u001b[39;00m forward_call(\u001b[39m*\u001b[39margs, \u001b[39m*\u001b[39m\u001b[39m*\u001b[39mkwargs)\n\u001b[0;32m   1502\u001b[0m \u001b[39m# Do not call functions when jit is used\u001b[39;00m\n\u001b[0;32m   1503\u001b[0m full_backward_hooks, non_full_backward_hooks \u001b[39m=\u001b[39m [], []\n",
      "File \u001b[1;32mc:\\Users\\saegl\\miniconda3\\envs\\dinora\\lib\\site-packages\\torch\\nn\\modules\\rnn.py:509\u001b[0m, in \u001b[0;36mRNN.forward\u001b[1;34m(self, input, hx)\u001b[0m\n\u001b[0;32m    507\u001b[0m \u001b[39mif\u001b[39;00m batch_sizes \u001b[39mis\u001b[39;00m \u001b[39mNone\u001b[39;00m:\n\u001b[0;32m    508\u001b[0m     \u001b[39mif\u001b[39;00m \u001b[39mself\u001b[39m\u001b[39m.\u001b[39mmode \u001b[39m==\u001b[39m \u001b[39m'\u001b[39m\u001b[39mRNN_TANH\u001b[39m\u001b[39m'\u001b[39m:\n\u001b[1;32m--> 509\u001b[0m         result \u001b[39m=\u001b[39m _VF\u001b[39m.\u001b[39;49mrnn_tanh(\u001b[39minput\u001b[39;49m, hx, \u001b[39mself\u001b[39;49m\u001b[39m.\u001b[39;49m_flat_weights, \u001b[39mself\u001b[39;49m\u001b[39m.\u001b[39;49mbias, \u001b[39mself\u001b[39;49m\u001b[39m.\u001b[39;49mnum_layers,\n\u001b[0;32m    510\u001b[0m                               \u001b[39mself\u001b[39;49m\u001b[39m.\u001b[39;49mdropout, \u001b[39mself\u001b[39;49m\u001b[39m.\u001b[39;49mtraining, \u001b[39mself\u001b[39;49m\u001b[39m.\u001b[39;49mbidirectional,\n\u001b[0;32m    511\u001b[0m                               \u001b[39mself\u001b[39;49m\u001b[39m.\u001b[39;49mbatch_first)\n\u001b[0;32m    512\u001b[0m     \u001b[39melse\u001b[39;00m:\n\u001b[0;32m    513\u001b[0m         result \u001b[39m=\u001b[39m _VF\u001b[39m.\u001b[39mrnn_relu(\u001b[39minput\u001b[39m, hx, \u001b[39mself\u001b[39m\u001b[39m.\u001b[39m_flat_weights, \u001b[39mself\u001b[39m\u001b[39m.\u001b[39mbias, \u001b[39mself\u001b[39m\u001b[39m.\u001b[39mnum_layers,\n\u001b[0;32m    514\u001b[0m                               \u001b[39mself\u001b[39m\u001b[39m.\u001b[39mdropout, \u001b[39mself\u001b[39m\u001b[39m.\u001b[39mtraining, \u001b[39mself\u001b[39m\u001b[39m.\u001b[39mbidirectional,\n\u001b[0;32m    515\u001b[0m                               \u001b[39mself\u001b[39m\u001b[39m.\u001b[39mbatch_first)\n",
      "\u001b[1;31mKeyboardInterrupt\u001b[0m: "
     ]
    }
   ],
   "source": [
    "with torch.no_grad():  # no need to track history in sampling\n",
    "    # input = inputTensor(start_letter)\n",
    "\n",
    "    question = 'How are you?'\n",
    "    input_tensor = entry_to_input_tensor({'turns': [question, '']})\n",
    "    hidden = torch.zeros(\n",
    "        num_layers,\n",
    "        hidden_size,\n",
    "    )\n",
    "\n",
    "    output, hidden = model(input_tensor, hidden)\n",
    "\n",
    "    output_name = message_start_marker\n",
    "\n",
    "    for i in range(250):\n",
    "        output, hidden = model(input_tensor[0].reshape(1, 78), hidden)\n",
    "        topv, topi = output.topk(1)\n",
    "        topi = topi[0][0]\n",
    "        if topi == n_letters - 1:\n",
    "            break\n",
    "        else:\n",
    "            letter = all_letters[topi.item()]\n",
    "            output_name += letter\n",
    "            print(\"Letter\", letter)\n",
    "            print(\"Idx:\", topi)\n",
    "        input = entry_to_input_tensor({'turns': [letter]})\n",
    "\n",
    "    print(output_name)"
   ]
  },
  {
   "cell_type": "code",
   "execution_count": 65,
   "metadata": {},
   "outputs": [
    {
     "data": {
      "text/plain": [
       "' '"
      ]
     },
     "execution_count": 65,
     "metadata": {},
     "output_type": "execute_result"
    }
   ],
   "source": [
    "all_letters[52]"
   ]
  }
 ],
 "metadata": {
  "kernelspec": {
   "display_name": "dinora",
   "language": "python",
   "name": "python3"
  },
  "language_info": {
   "codemirror_mode": {
    "name": "ipython",
    "version": 3
   },
   "file_extension": ".py",
   "mimetype": "text/x-python",
   "name": "python",
   "nbconvert_exporter": "python",
   "pygments_lexer": "ipython3",
   "version": "3.10.10"
  },
  "orig_nbformat": 4
 },
 "nbformat": 4,
 "nbformat_minor": 2
}
