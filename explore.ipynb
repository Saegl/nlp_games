{
 "cells": [
  {
   "attachments": {},
   "cell_type": "markdown",
   "metadata": {},
   "source": [
    "# Just trash notebook, I use it as python repl alt"
   ]
  },
  {
   "cell_type": "code",
   "execution_count": 28,
   "metadata": {},
   "outputs": [],
   "source": [
    "import numpy as np\n",
    "\n",
    "import torch\n",
    "from torch import nn\n",
    "from torch import optim"
   ]
  },
  {
   "cell_type": "code",
   "execution_count": 43,
   "metadata": {},
   "outputs": [
    {
     "name": "stdout",
     "output_type": "stream",
     "text": [
      "1.0912995338439941\n"
     ]
    }
   ],
   "source": [
    "input_size = 26\n",
    "hidden_size = 128\n",
    "num_layers = 3\n",
    "batch_first = True\n",
    "batch_size = 128\n",
    "bidirectional = False\n",
    "\n",
    "model = nn.RNN(\n",
    "    input_size=input_size,\n",
    "    hidden_size=hidden_size,\n",
    "    num_layers=num_layers,\n",
    "    batch_first=batch_first,\n",
    "    bidirectional=bidirectional,\n",
    ")\n",
    "\n",
    "sequence_length = 5\n",
    "x = torch.randn(\n",
    "    batch_size,\n",
    "    sequence_length,\n",
    "    input_size,\n",
    ")\n",
    "\n",
    "h0 = torch.randn(\n",
    "    num_layers,\n",
    "    batch_size,\n",
    "    hidden_size,\n",
    ")\n",
    "\n",
    "y = torch.randn(\n",
    "    batch_size,\n",
    "    sequence_length,\n",
    "    hidden_size,\n",
    ")\n",
    "\n",
    "loss_fn = nn.MSELoss()\n",
    "optimizer = optim.Adam(model.parameters(), lr=1e-3)\n",
    "\n",
    "\n",
    "pred, hn = model(x, h0)\n",
    "loss = loss_fn(y, pred)\n",
    "\n",
    "optimizer.zero_grad()\n",
    "loss.backward()\n",
    "optimizer.step()\n",
    "\n",
    "print(loss.item())"
   ]
  }
 ],
 "metadata": {
  "kernelspec": {
   "display_name": "dinora",
   "language": "python",
   "name": "python3"
  },
  "language_info": {
   "codemirror_mode": {
    "name": "ipython",
    "version": 3
   },
   "file_extension": ".py",
   "mimetype": "text/x-python",
   "name": "python",
   "nbconvert_exporter": "python",
   "pygments_lexer": "ipython3",
   "version": "3.10.10"
  },
  "orig_nbformat": 4
 },
 "nbformat": 4,
 "nbformat_minor": 2
}
