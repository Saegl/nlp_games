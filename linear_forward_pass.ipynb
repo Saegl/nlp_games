{
 "cells": [
  {
   "cell_type": "code",
   "execution_count": 4,
   "metadata": {},
   "outputs": [],
   "source": [
    "import torch\n",
    "from torch import nn"
   ]
  },
  {
   "cell_type": "code",
   "execution_count": 5,
   "metadata": {},
   "outputs": [
    {
     "name": "stdout",
     "output_type": "stream",
     "text": [
      "MODEL WEIGHT: [[ 0.21865445  0.35571605  0.20985544]\n",
      " [-0.23870215 -0.0413518  -0.09424829]]\n",
      "MODEL BIAS: [-0.41344947  0.39133608]\n",
      "\n",
      "INPUT: tensor([ 0.4977,  1.7279, -0.9109])\n",
      "OUTPUT: tensor([0.1189, 0.2869], grad_fn=<AddBackward0>)\n",
      "\n",
      "MANUAL OUTPUT: tensor([0.1189, 0.2869], grad_fn=<AddBackward0>)\n",
      "\n"
     ]
    }
   ],
   "source": [
    "# nn.Linear\n",
    "# Model params\n",
    "in_features = 3\n",
    "out_features = 2\n",
    "model = nn.Linear(in_features, out_features)\n",
    "print(\"MODEL WEIGHT:\", model.weight.detach().numpy())\n",
    "print(\"MODEL BIAS:\", model.bias.detach().numpy())\n",
    "print()\n",
    "\n",
    "# Regular computation\n",
    "input = torch.randn(3)\n",
    "output = model(input)\n",
    "print(\"INPUT:\", input)\n",
    "print(\"OUTPUT:\", output)\n",
    "print()\n",
    "\n",
    "# Manual computation\n",
    "A = model.weight\n",
    "b = model.bias\n",
    "\n",
    "x = input\n",
    "y = x @ A.T + b\n",
    "print(\"MANUAL OUTPUT:\", y)\n",
    "print()"
   ]
  },
  {
   "cell_type": "code",
   "execution_count": 6,
   "metadata": {},
   "outputs": [
    {
     "name": "stdout",
     "output_type": "stream",
     "text": [
      "MODEL WEIGHT: [[-0.33524668 -0.21514669  0.16148996]\n",
      " [ 0.54519916 -0.53025013 -0.5212    ]]\n",
      "MODEL BIAS: [-0.42619738 -0.5652221 ]\n",
      "\n",
      "INPUT: tensor([[ 1.4854, -0.4108, -0.0240],\n",
      "        [ 0.0837,  0.4397,  0.1070]])\n",
      "OUTPUT: tensor([[-0.8397,  0.4750],\n",
      "        [-0.5316, -0.8084]], grad_fn=<AddmmBackward0>)\n",
      "\n",
      "MANUAL OUTPUT: tensor([[-0.8397,  0.4750],\n",
      "        [-0.5316, -0.8084]], grad_fn=<AddBackward0>)\n",
      "\n"
     ]
    }
   ],
   "source": [
    "# nn.Linear with batch\n",
    "# Model params\n",
    "in_features = 3\n",
    "out_features = 2\n",
    "model = nn.Linear(in_features, out_features)\n",
    "print(\"MODEL WEIGHT:\", model.weight.detach().numpy())\n",
    "print(\"MODEL BIAS:\", model.bias.detach().numpy())\n",
    "print()\n",
    "\n",
    "# Regular computation\n",
    "input = torch.randn(2, 3)\n",
    "output = model(input)\n",
    "print(\"INPUT:\", input)\n",
    "print(\"OUTPUT:\", output)\n",
    "print()\n",
    "\n",
    "# Manual computation\n",
    "A = model.weight\n",
    "b = model.bias\n",
    "\n",
    "x = input\n",
    "y = x @ A.T + b\n",
    "print(\"MANUAL OUTPUT:\", y)\n",
    "print()"
   ]
  }
 ],
 "metadata": {
  "kernelspec": {
   "display_name": "dlg",
   "language": "python",
   "name": "python3"
  },
  "language_info": {
   "codemirror_mode": {
    "name": "ipython",
    "version": 3
   },
   "file_extension": ".py",
   "mimetype": "text/x-python",
   "name": "python",
   "nbconvert_exporter": "python",
   "pygments_lexer": "ipython3",
   "version": "3.10.10"
  },
  "orig_nbformat": 4
 },
 "nbformat": 4,
 "nbformat_minor": 2
}
