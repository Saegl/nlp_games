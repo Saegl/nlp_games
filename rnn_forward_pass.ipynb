{
 "cells": [
  {
   "cell_type": "code",
   "execution_count": 1,
   "metadata": {},
   "outputs": [],
   "source": [
    "import torch\n",
    "from torch import nn"
   ]
  },
  {
   "cell_type": "code",
   "execution_count": 41,
   "metadata": {},
   "outputs": [
    {
     "name": "stdout",
     "output_type": "stream",
     "text": [
      "PARAMS:\n",
      "w_ih=array([[-0.36250335, -0.06201804],\n",
      "       [ 0.19342226, -0.4159969 ],\n",
      "       [-0.2725783 ,  0.3993578 ]], dtype=float32)\n",
      "w_hh=array([[ 0.06113869,  0.17437363,  0.3263952 ],\n",
      "       [ 0.16002077,  0.30942285, -0.06392378],\n",
      "       [-0.38864082,  0.3857612 ,  0.04680109]], dtype=float32)\n",
      "b_ih=array([-0.31550786,  0.1562801 ,  0.44562936], dtype=float32)\n",
      "b_hh=array([0.39199525, 0.16152865, 0.03036499], dtype=float32)\n",
      "\n",
      "FORWARD PASS:\n",
      "inputs=tensor([[[ 1.1150, -1.9053],\n",
      "         [-0.8039,  1.6239],\n",
      "         [-0.7541,  0.3839],\n",
      "         [-0.8075, -1.3132],\n",
      "         [ 0.1741,  0.7878]],\n",
      "\n",
      "        [[-1.3851,  0.8334],\n",
      "         [-0.1918,  1.0145],\n",
      "         [ 0.7142, -0.1625],\n",
      "         [-0.0992,  1.4404],\n",
      "         [-0.3180, -1.0389]],\n",
      "\n",
      "        [[ 1.1328,  1.8441],\n",
      "         [-0.6378, -0.2136],\n",
      "         [ 0.2844,  0.4213],\n",
      "         [ 1.1409,  0.4411],\n",
      "         [ 0.4967, -0.8242]],\n",
      "\n",
      "        [[ 1.2499,  0.4635],\n",
      "         [ 0.0251,  0.1511],\n",
      "         [-0.8519,  1.0837],\n",
      "         [-0.9049, -1.9400],\n",
      "         [ 0.2790, -1.9774]]])\n",
      "hidden_initial=tensor([[[0., 0., 0.],\n",
      "         [0., 0., 0.],\n",
      "         [0., 0., 0.],\n",
      "         [0., 0., 0.]]])\n",
      "outputs=tensor([[[-0.2065,  0.8683, -0.5291],\n",
      "         [ 0.2291, -0.2391,  0.9395],\n",
      "         [ 0.5406, -0.0849,  0.6028],\n",
      "         [ 0.5821,  0.6228, -0.0429],\n",
      "         [ 0.0944,  0.3026,  0.6382]],\n",
      "\n",
      "        [[ 0.4830, -0.2884,  0.8294],\n",
      "         [ 0.3213, -0.2034,  0.5871],\n",
      "         [ 0.0035,  0.4418,  0.0406],\n",
      "         [ 0.1131, -0.1644,  0.8481],\n",
      "         [ 0.4709,  0.5381,  0.0799]],\n",
      "\n",
      "        [[-0.4207, -0.2263,  0.7181],\n",
      "         [ 0.4543,  0.0998,  0.5878],\n",
      "         [ 0.1823,  0.2576,  0.4269],\n",
      "         [-0.1674,  0.4108,  0.3711],\n",
      "         [ 0.1294,  0.6823,  0.2471]],\n",
      "\n",
      "        [[-0.3845,  0.3511,  0.3099],\n",
      "         [ 0.1944,  0.2795,  0.6799],\n",
      "         [ 0.5375, -0.2200,  0.8352],\n",
      "         [ 0.6595,  0.7232, -0.2975],\n",
      "         [ 0.1658,  0.9126, -0.3636]]], grad_fn=<TransposeBackward1>)\n",
      "hidden_final=tensor([[[ 0.0944,  0.3026,  0.6382],\n",
      "         [ 0.4709,  0.5381,  0.0799],\n",
      "         [ 0.1294,  0.6823,  0.2471],\n",
      "         [ 0.1658,  0.9126, -0.3636]]], grad_fn=<StackBackward0>)\n"
     ]
    }
   ],
   "source": [
    "# RNN forward\n",
    "input_size = 2\n",
    "hidden_size = 3\n",
    "batch_size = 4\n",
    "sequence_length = 5\n",
    "rnn = nn.RNN(\n",
    "    input_size=input_size,\n",
    "    hidden_size=hidden_size,\n",
    "    batch_first=True,\n",
    ")\n",
    "\n",
    "\n",
    "w_ih = rnn.weight_ih_l0.detach().numpy()  # (3, 2) = (hidden_size, input_size)\n",
    "w_hh = rnn.weight_hh_l0.detach().numpy()\n",
    "b_ih = rnn.bias_ih_l0.detach().numpy() # (hidden_size,) = (3)\n",
    "b_hh = rnn.bias_hh_l0.detach().numpy()\n",
    "\n",
    "\n",
    "print(\"PARAMS:\")\n",
    "print(f\"{w_ih=}\\n{w_hh=}\\n{b_ih=}\\n{b_hh=}\")\n",
    "print()\n",
    "\n",
    "\n",
    "print(\"FORWARD PASS:\")\n",
    "# input.shape = (N, L, H_in) = (batch_size, sequence_length, input_size)\n",
    "inputs = torch.randn(batch_size, sequence_length, input_size)\n",
    "print(f\"{inputs=}\")\n",
    "\n",
    "# hidden_initial.shape = (num_layers, N, H_out) = (num_layers, batch_size, hidden_size)\n",
    "hidden_initial = torch.zeros(1, batch_size, hidden_size)\n",
    "print(f\"{hidden_initial=}\")\n",
    "\n",
    "outputs, hidden_final = rnn(inputs, hidden_initial)\n",
    "# output.shape = (N, L, H_out) = (batch_size, sequence_length, hidden_size)\n",
    "# hidden_final.shape = (num_layers, N, H_out) = (num_layers, batch_size, hidden_size)\n",
    "print(f\"{outputs=}\\n{hidden_final=}\")"
   ]
  },
  {
   "cell_type": "code",
   "execution_count": 42,
   "metadata": {},
   "outputs": [
    {
     "name": "stdout",
     "output_type": "stream",
     "text": [
      "tensor([[[True, True, True],\n",
      "         [True, True, True],\n",
      "         [True, True, True],\n",
      "         [True, True, True]]])\n"
     ]
    }
   ],
   "source": [
    "print(outputs[:, -1, :] == hidden_final)"
   ]
  },
  {
   "cell_type": "code",
   "execution_count": 49,
   "metadata": {},
   "outputs": [
    {
     "name": "stdout",
     "output_type": "stream",
     "text": [
      "MANUAL PASS\n",
      "output=tensor([[[-0.2065,  0.8683, -0.5291],\n",
      "         [ 0.2291, -0.2391,  0.9395],\n",
      "         [ 0.5406, -0.0849,  0.6028],\n",
      "         [ 0.5821,  0.6228, -0.0429],\n",
      "         [ 0.0944,  0.3026,  0.6382]],\n",
      "\n",
      "        [[ 0.4830, -0.2884,  0.8294],\n",
      "         [ 0.3213, -0.2034,  0.5871],\n",
      "         [ 0.0035,  0.4418,  0.0406],\n",
      "         [ 0.1131, -0.1644,  0.8481],\n",
      "         [ 0.4709,  0.5381,  0.0799]],\n",
      "\n",
      "        [[-0.4207, -0.2263,  0.7181],\n",
      "         [ 0.4543,  0.0998,  0.5878],\n",
      "         [ 0.1823,  0.2576,  0.4269],\n",
      "         [-0.1674,  0.4108,  0.3711],\n",
      "         [ 0.1294,  0.6823,  0.2471]],\n",
      "\n",
      "        [[-0.3845,  0.3511,  0.3099],\n",
      "         [ 0.1944,  0.2795,  0.6799],\n",
      "         [ 0.5375, -0.2200,  0.8352],\n",
      "         [ 0.6595,  0.7232, -0.2975],\n",
      "         [ 0.1658,  0.9126, -0.3636]]])\n",
      "hidden_final=tensor([[ 0.0944,  0.3026,  0.6382],\n",
      "        [ 0.4709,  0.5381,  0.0799],\n",
      "        [ 0.1294,  0.6823,  0.2471],\n",
      "        [ 0.1658,  0.9126, -0.3636]])\n"
     ]
    }
   ],
   "source": [
    "print(\"MANUAL PASS\")\n",
    "output = torch.zeros(batch_size, sequence_length, hidden_size)\n",
    "hidden_initial = torch.zeros(1, batch_size, hidden_size)\n",
    "\n",
    "for batch_idx in range(batch_size):\n",
    "    h = hidden_initial[:, batch_idx, :]\n",
    "    for seq_idx in range(sequence_length):\n",
    "        x = inputs[batch_idx, seq_idx, :]\n",
    "        o = torch.tanh(x @ w_ih.T + b_ih + h @ w_hh.T + b_hh)\n",
    "        h = o\n",
    "\n",
    "        output[batch_idx, seq_idx] = o\n",
    "\n",
    "hidden_final = output[:, -1, :]\n",
    "print(f\"{output=}\")\n",
    "print(f\"{hidden_final=}\")"
   ]
  }
 ],
 "metadata": {
  "kernelspec": {
   "display_name": "dlg",
   "language": "python",
   "name": "python3"
  },
  "language_info": {
   "codemirror_mode": {
    "name": "ipython",
    "version": 3
   },
   "file_extension": ".py",
   "mimetype": "text/x-python",
   "name": "python",
   "nbconvert_exporter": "python",
   "pygments_lexer": "ipython3",
   "version": "3.10.10"
  },
  "orig_nbformat": 4
 },
 "nbformat": 4,
 "nbformat_minor": 2
}
